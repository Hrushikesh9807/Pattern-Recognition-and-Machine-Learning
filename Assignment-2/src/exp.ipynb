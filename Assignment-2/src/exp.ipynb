{
 "cells": [
  {
   "cell_type": "code",
   "execution_count": 40,
   "id": "b0a46ca8",
   "metadata": {},
   "outputs": [],
   "source": [
    "import pandas as pd\n",
    "import numpy as np\n",
    "\n",
    "dtrain = pd.read_csv(r\"H:\\Sem-7\\CS5691\\Assignment-2\\Datasets\\Dataset1\\train.csv\")\n",
    "dval = pd.read_csv(r\"H:\\Sem-7\\CS5691\\Assignment-2\\Datasets\\Dataset1\\val.csv\")\n",
    "dtest = pd.read_csv(r\"H:\\Sem-7\\CS5691\\Assignment-2\\Datasets\\Dataset1\\test.csv\")"
   ]
  },
  {
   "cell_type": "code",
   "execution_count": 51,
   "id": "41fd20bf",
   "metadata": {},
   "outputs": [],
   "source": [
    "xtrain = np.asarray(dtrain.drop(columns=['label']))\n",
    "ytrain = np.asarray(dtrain['label']).astype(int)\n",
    "\n",
    "xval = np.asarray(dval.drop(columns=['label']))\n",
    "yval = np.asarray(dval['label']).astype(int)\n",
    "\n",
    "xtest = np.asarray(dtest.drop(columns=['label']))\n",
    "ytest = np.asarray(dtest['label']).astype(int)"
   ]
  },
  {
   "cell_type": "code",
   "execution_count": 52,
   "id": "520d2388",
   "metadata": {},
   "outputs": [
    {
     "data": {
      "text/plain": [
       "(840, 2)"
      ]
     },
     "execution_count": 52,
     "metadata": {},
     "output_type": "execute_result"
    }
   ],
   "source": [
    "xtrain.shape"
   ]
  },
  {
   "cell_type": "code",
   "execution_count": 60,
   "id": "8b43364c",
   "metadata": {},
   "outputs": [],
   "source": [
    "class KNN:\n",
    "    def __init__(self, k):\n",
    "        self.k = k \n",
    "\n",
    "    def fit(self, xtrain, ytrain):\n",
    "        self.xtrain = xtrain\n",
    "        self.ytrain = ytrain\n",
    "\n",
    "    def predict_one(self, x):\n",
    "        x = np.asarray(x)\n",
    "        lbl = []\n",
    "\n",
    "        for i in range(self.xtrain.shape[0]):\n",
    "            lbl.append([np.linalg.norm(x-self.xtrain[i]), self.ytrain[i]])\n",
    "        \n",
    "        lbl.sort()\n",
    "\n",
    "        mmp = {}\n",
    "        for i in range(self.k):\n",
    "            key = lbl[i][1]\n",
    "            mmp[key] = mmp.get(key, 0) + 1\n",
    "\n",
    "        \n",
    "        label = -1\n",
    "        cnt = 0\n",
    "        for k, v in mmp.items():\n",
    "            if v > cnt:\n",
    "                cnt = v\n",
    "                label = k\n",
    "\n",
    "        \n",
    "        return label\n",
    "    \n",
    "    def predict(self, xtest):\n",
    "        self.xtest = xtest\n",
    "        self.ytest = []\n",
    "\n",
    "\n",
    "        for i in range(self.xtest.shape[0]):\n",
    "            self.ytest.append(self.predict_one(self.xtest[i]))\n",
    "        \n",
    "        return self.ytest\n",
    "\n",
    "    def accuracy(self, yred, y):\n",
    "        corr = 0\n",
    "        for i in range(y.shape[0]):\n",
    "            corr += yred[i] == y[i]\n",
    "        return corr / y.shape[0]\n",
    "            "
   ]
  },
  {
   "cell_type": "code",
   "execution_count": 70,
   "id": "050c4b50",
   "metadata": {},
   "outputs": [],
   "source": [
    "cs = KNN(9)\n",
    "cs.fit(xtrain, ytrain)\n"
   ]
  },
  {
   "cell_type": "code",
   "execution_count": 73,
   "id": "10ea8bcc",
   "metadata": {},
   "outputs": [
    {
     "data": {
      "text/plain": [
       "np.float64(0.9833333333333333)"
      ]
     },
     "execution_count": 73,
     "metadata": {},
     "output_type": "execute_result"
    }
   ],
   "source": [
    "red = cs.predict(xtest)\n",
    "cs.accuracy(red, ytest)"
   ]
  },
  {
   "cell_type": "markdown",
   "id": "a9328225",
   "metadata": {},
   "source": [
    "# Error\n",
    "| k | train data | validation data | test_data |\n",
    "|1|1|0.975|0.967|\n",
    "|5|0.97|0.996|0.967|\n",
    "|9|0.978|0.996|0.98|   "
   ]
  },
  {
   "cell_type": "code",
   "execution_count": null,
   "id": "27bd5891",
   "metadata": {},
   "outputs": [],
   "source": []
  }
 ],
 "metadata": {
  "kernelspec": {
   "display_name": "Python 3",
   "language": "python",
   "name": "python3"
  },
  "language_info": {
   "codemirror_mode": {
    "name": "ipython",
    "version": 3
   },
   "file_extension": ".py",
   "mimetype": "text/x-python",
   "name": "python",
   "nbconvert_exporter": "python",
   "pygments_lexer": "ipython3",
   "version": "3.13.3"
  }
 },
 "nbformat": 4,
 "nbformat_minor": 5
}

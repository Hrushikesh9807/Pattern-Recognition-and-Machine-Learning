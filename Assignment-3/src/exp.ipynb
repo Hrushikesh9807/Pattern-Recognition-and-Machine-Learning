{
 "cells": [
  {
   "cell_type": "code",
   "execution_count": null,
   "id": "066e2fd8",
   "metadata": {},
   "outputs": [],
   "source": [
    "from tensorflow import keras\n",
    "from tensorflow.keras import layers\n",
    "import tensorflow as tf"
   ]
  },
  {
   "cell_type": "markdown",
   "id": "da4e01c8",
   "metadata": {},
   "source": [
    "# Q.1\n",
    "Function Approximation for Dataset 1 using MLFFNN with one hidden layer having 8 nodes"
   ]
  },
  {
   "cell_type": "code",
   "execution_count": 6,
   "id": "551a014c",
   "metadata": {},
   "outputs": [],
   "source": [
    "# ---- Hyperparameters ----\n",
    "ETA = 0.7          # learning rate η\n",
    "MOMENTUM = 0.9     # momentum α\n",
    "BETA = 1.0         # slope β in tanh\n",
    "THRESH = 0.001     # threshold on change in average error\n",
    "\n",
    "def tanh_beta(x):\n",
    "    return tf.math.tanh(BETA * x)\n",
    "\n",
    "def sum_squared_error(y_true, y_pred):\n",
    "    return tf.reduce_sum(tf.square(y_true - y_pred))\n",
    "\n",
    "# Model: function approximation\n",
    "model = keras.Sequential([\n",
    "    layers.Dense(8, activation=tanh_beta, name=\"hidden-1\"),\n",
    "    layers.Dense(1, activation=\"linear\", name=\"output-layer\"),\n",
    "])\n",
    "\n",
    "# Optimizer: SGD with required η and momentum\n",
    "opt = keras.optimizers.SGD(learning_rate=ETA, momentum=MOMENTUM)\n",
    "\n",
    "model.compile(optimizer=opt, loss=sum_squared_error, metrics=[\"mse\"])\n",
    "\n",
    "# Convergence criterion without defining a new class:\n",
    "# EarlyStopping stops when the BEST (min) loss hasn't improved by at least THRESH.\n",
    "early_stop = keras.callbacks.EarlyStopping(\n",
    "    monitor=\"loss\",\n",
    "    min_delta=THRESH,\n",
    "    patience=1,\n",
    "    mode=\"min\",\n",
    "    restore_best_weights=True\n",
    ")\n",
    "\n"
   ]
  },
  {
   "cell_type": "code",
   "execution_count": null,
   "id": "443e9065",
   "metadata": {},
   "outputs": [],
   "source": [
    "import pandas as pd\n",
    "x_train = \n",
    "history = model.fit(\n",
    "    x_train, y_train,\n",
    "    epochs=1000,\n",
    "    batch_size=1,\n",
    "    shuffle=True,\n",
    "    callbacks=[early_stop]\n",
    ")\n"
   ]
  },
  {
   "cell_type": "markdown",
   "id": "c9e1a74d",
   "metadata": {},
   "source": [
    "# Q.2\n",
    "Function Approximation for Dataset 2 using MLFFNN with two hidden layers having 15 nodes in \n",
    "the first hidden layer and 10 nodes in the second hidden layer"
   ]
  },
  {
   "cell_type": "code",
   "execution_count": null,
   "id": "cb43cd89",
   "metadata": {},
   "outputs": [],
   "source": [
    "model = keras.Sequential(\n",
    "    [\n",
    "        layers.Dense(15, activation=\"tanh\", name=\"hidden-1\"),\n",
    "        layers.Dense(10, activation=\"tanh\", name=\"hidden-2\"),\n",
    "        layers.Dense(1, activation=\"linear\", name=\"output-layer\"),\n",
    "    ]\n",
    ")\n",
    "\n",
    "# Define Sum of Squared Errors (SSE)\n",
    "def sum_squared_error(y_true, y_pred):\n",
    "    return tf.reduce_sum(tf.square(y_true - y_pred))\n",
    "\n",
    "# # Compile with SSE loss\n",
    "# model.compile(\n",
    "#     optimizer=\"adam\",\n",
    "#     loss=sum_squared_error,\n",
    "#     metrics=[\"mse\"]  # You can still track MSE for convenience\n",
    "# )\n",
    "\n",
    "# model.compile(\n",
    "#     optimizer=\"adam\",\n",
    "#     loss=\"mse\",\n",
    "# )\n"
   ]
  },
  {
   "cell_type": "markdown",
   "id": "b41fd772",
   "metadata": {},
   "source": [
    "# Q.3\n",
    "Classifier for Dataset 3 using MLFFNN  with 12 nodes in the first hidden layer and 8  nodes in the \n",
    "second hidden layer "
   ]
  },
  {
   "cell_type": "code",
   "execution_count": null,
   "id": "8899b93a",
   "metadata": {},
   "outputs": [],
   "source": [
    "model = keras.Sequential(\n",
    "    [\n",
    "        layers.Dense(12, activation=\"tanh\", name=\"hidden-1\"),\n",
    "        layers.Dense(8, activation=\"tanh\", name=\"hidden-2\"),\n",
    "        layers.Dense(1, activation=\"softmax\", name=\"output-layer\"),\n",
    "    ]\n",
    ")\n",
    "\n",
    "model.compile(\n",
    "    optimizer=\"adam\",\n",
    "    loss=\"binary_crossentropy\",\n",
    "    metrics=[\"accuracy\"]\n",
    ")\n"
   ]
  },
  {
   "cell_type": "markdown",
   "id": "c98db3de",
   "metadata": {},
   "source": [
    "# Q.4 \n",
    "Classifier for Dataset 4 using MLFFNN with 25 nodes in the first hidden layer and 15  nodes in the second hidden layer"
   ]
  },
  {
   "cell_type": "code",
   "execution_count": null,
   "id": "c89d91d6",
   "metadata": {},
   "outputs": [],
   "source": [
    "model = keras.Sequential(\n",
    "    [\n",
    "        layers.Dense(25, activation=\"tanh\", name=\"hidden-1\"),\n",
    "        layers.Dense(15, activation=\"tanh\", name=\"hidden-2\"),\n",
    "        layers.Dense(1, activation=\"softmax\", name=\"output-layer\"),\n",
    "    ]\n",
    ")\n",
    "\n",
    "model.compile(\n",
    "    optimizer=\"adam\",\n",
    "    loss=\"categorical_cross_entropy\",\n",
    "    metrics=[\"accuracy\"]\n",
    ")\n"
   ]
  }
 ],
 "metadata": {
  "kernelspec": {
   "display_name": "Python 3",
   "language": "python",
   "name": "python3"
  },
  "language_info": {
   "codemirror_mode": {
    "name": "ipython",
    "version": 3
   },
   "file_extension": ".py",
   "mimetype": "text/x-python",
   "name": "python",
   "nbconvert_exporter": "python",
   "pygments_lexer": "ipython3",
   "version": "3.13.3"
  }
 },
 "nbformat": 4,
 "nbformat_minor": 5
}

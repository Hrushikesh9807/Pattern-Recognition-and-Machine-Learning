{
 "cells": [
  {
   "cell_type": "code",
   "execution_count": null,
   "id": "066e2fd8",
   "metadata": {},
   "outputs": [],
   "source": [
    "from tensorflow import keras\n",
    "from tensorflow.keras import layers\n",
    "import tensorflow as tf"
   ]
  },
  {
   "cell_type": "markdown",
   "id": "da4e01c8",
   "metadata": {},
   "source": [
    "# Q.1\n",
    "Function Approximation for Dataset 1 using MLFFNN with one hidden layer having 8 nodes"
   ]
  },
  {
   "cell_type": "code",
   "execution_count": 6,
   "id": "551a014c",
   "metadata": {},
   "outputs": [],
   "source": [
    "# ---- Hyperparameters ----\n",
    "ETA = 0.7          # learning rate η\n",
    "MOMENTUM = 0.9     # momentum α\n",
    "BETA = 1.0         # slope β in tanh\n",
    "THRESH = 0.001     # threshold on change in average error\n",
    "\n",
    "def tanh_beta(x):\n",
    "    return tf.math.tanh(BETA * x)\n",
    "\n",
    "def sum_squared_error(y_true, y_pred):\n",
    "    return tf.reduce_sum(tf.square(y_true - y_pred))\n",
    "\n",
    "# Model: function approximation\n",
    "model = keras.Sequential([\n",
    "    layers.Dense(8, activation=tanh_beta, name=\"hidden-1\"),\n",
    "    layers.Dense(1, activation=\"linear\", name=\"output-layer\"),\n",
    "])\n",
    "\n",
    "# Optimizer: SGD with required η and momentum\n",
    "opt = keras.optimizers.SGD(learning_rate=ETA, momentum=MOMENTUM)\n",
    "\n",
    "model.compile(optimizer=opt, loss=sum_squared_error, metrics=[\"mse\"])\n",
    "\n",
    "# Convergence criterion without defining a new class:\n",
    "# EarlyStopping stops when the BEST (min) loss hasn't improved by at least THRESH.\n",
    "early_stop = keras.callbacks.EarlyStopping(\n",
    "    monitor=\"loss\",\n",
    "    min_delta=THRESH,\n",
    "    patience=1,\n",
    "    mode=\"min\",\n",
    "    restore_best_weights=True\n",
    ")\n",
    "\n"
   ]
  },
  {
   "cell_type": "code",
   "execution_count": 7,
   "id": "443e9065",
   "metadata": {},
   "outputs": [
    {
     "ename": "TypeError",
     "evalue": "'DataFrame' object is not callable",
     "output_type": "error",
     "traceback": [
      "\u001b[31m---------------------------------------------------------------------------\u001b[39m",
      "\u001b[31mTypeError\u001b[39m                                 Traceback (most recent call last)",
      "\u001b[36mCell\u001b[39m\u001b[36m \u001b[39m\u001b[32mIn[7]\u001b[39m\u001b[32m, line 3\u001b[39m\n\u001b[32m      1\u001b[39m \u001b[38;5;28;01mimport\u001b[39;00m\u001b[38;5;250m \u001b[39m\u001b[34;01mpandas\u001b[39;00m\u001b[38;5;250m \u001b[39m\u001b[38;5;28;01mas\u001b[39;00m\u001b[38;5;250m \u001b[39m\u001b[34;01mpd\u001b[39;00m\n\u001b[32m      2\u001b[39m data = pd.read_csv(\u001b[33mr\u001b[39m\u001b[33m\"\u001b[39m\u001b[33mH:\u001b[39m\u001b[33m\\\u001b[39m\u001b[33mSem-7\u001b[39m\u001b[33m\\\u001b[39m\u001b[33mCS5691\u001b[39m\u001b[33m\\\u001b[39m\u001b[33mAssignment-3\u001b[39m\u001b[33m\\\u001b[39m\u001b[33mDatasets\u001b[39m\u001b[33m\\\u001b[39m\u001b[33mDataset1\u001b[39m\u001b[33m\\\u001b[39m\u001b[33mtrain100.csv\u001b[39m\u001b[33m\"\u001b[39m)\n\u001b[32m----> \u001b[39m\u001b[32m3\u001b[39m x_train = \u001b[43mdata\u001b[49m\u001b[43m(\u001b[49m\u001b[43m[\u001b[49m\u001b[33;43m\"\u001b[39;49m\u001b[33;43mx1\u001b[39;49m\u001b[33;43m\"\u001b[39;49m\u001b[43m,\u001b[49m\u001b[43m \u001b[49m\u001b[33;43m\"\u001b[39;49m\u001b[33;43mx2\u001b[39;49m\u001b[33;43m\"\u001b[39;49m\u001b[43m]\u001b[49m\u001b[43m)\u001b[49m\n\u001b[32m      4\u001b[39m y_train = data([\u001b[33m\"\u001b[39m\u001b[33my\u001b[39m\u001b[33m\"\u001b[39m])\n\u001b[32m      5\u001b[39m history = model.fit(\n\u001b[32m      6\u001b[39m     x_train, y_train,\n\u001b[32m      7\u001b[39m     epochs=\u001b[32m1000\u001b[39m,\n\u001b[32m   (...)\u001b[39m\u001b[32m     10\u001b[39m     callbacks=[early_stop]\n\u001b[32m     11\u001b[39m )\n",
      "\u001b[31mTypeError\u001b[39m: 'DataFrame' object is not callable"
     ]
    }
   ],
   "source": [
    "import pandas as pd\n",
    "data = pd.read_csv(r\"H:\\Sem-7\\CS5691\\Assignment-3\\Datasets\\Dataset1\\train100.csv\")\n",
    "x_train = data([\"x1\", \"x2\"])\n",
    "y_train = data([\"y\"])\n",
    "history = model.fit(\n",
    "    x_train, y_train,\n",
    "    epochs=1000,\n",
    "    batch_size=1,\n",
    "    shuffle=True,\n",
    "    callbacks=[early_stop]\n",
    ")\n"
   ]
  },
  {
   "cell_type": "markdown",
   "id": "c9e1a74d",
   "metadata": {},
   "source": [
    "# Q.2\n",
    "Function Approximation for Dataset 2 using MLFFNN with two hidden layers having 15 nodes in \n",
    "the first hidden layer and 10 nodes in the second hidden layer"
   ]
  },
  {
   "cell_type": "code",
   "execution_count": null,
   "id": "cb43cd89",
   "metadata": {},
   "outputs": [],
   "source": [
    "model = keras.Sequential(\n",
    "    [\n",
    "        layers.Dense(15, activation=\"tanh\", name=\"hidden-1\"),\n",
    "        layers.Dense(10, activation=\"tanh\", name=\"hidden-2\"),\n",
    "        layers.Dense(1, activation=\"linear\", name=\"output-layer\"),\n",
    "    ]\n",
    ")\n",
    "\n",
    "# Define Sum of Squared Errors (SSE)\n",
    "def sum_squared_error(y_true, y_pred):\n",
    "    return tf.reduce_sum(tf.square(y_true - y_pred))\n",
    "\n",
    "# # Compile with SSE loss\n",
    "# model.compile(\n",
    "#     optimizer=\"adam\",\n",
    "#     loss=sum_squared_error,\n",
    "#     metrics=[\"mse\"]  # You can still track MSE for convenience\n",
    "# )\n",
    "\n",
    "# model.compile(\n",
    "#     optimizer=\"adam\",\n",
    "#     loss=\"mse\",\n",
    "# )\n"
   ]
  },
  {
   "cell_type": "markdown",
   "id": "b41fd772",
   "metadata": {},
   "source": [
    "# Q.3\n",
    "Classifier for Dataset 3 using MLFFNN  with 12 nodes in the first hidden layer and 8  nodes in the \n",
    "second hidden layer "
   ]
  },
  {
   "cell_type": "code",
   "execution_count": null,
   "id": "8899b93a",
   "metadata": {},
   "outputs": [],
   "source": [
    "model = keras.Sequential(\n",
    "    [\n",
    "        layers.Dense(12, activation=\"tanh\", name=\"hidden-1\"),\n",
    "        layers.Dense(8, activation=\"tanh\", name=\"hidden-2\"),\n",
    "        layers.Dense(1, activation=\"softmax\", name=\"output-layer\"),\n",
    "    ]\n",
    ")\n",
    "\n",
    "model.compile(\n",
    "    optimizer=\"adam\",\n",
    "    loss=\"binary_crossentropy\",\n",
    "    metrics=[\"accuracy\"]\n",
    ")\n"
   ]
  },
  {
   "cell_type": "markdown",
   "id": "c98db3de",
   "metadata": {},
   "source": [
    "# Q.4 \n",
    "Classifier for Dataset 4 using MLFFNN with 25 nodes in the first hidden layer and 15  nodes in the second hidden layer"
   ]
  },
  {
   "cell_type": "code",
   "execution_count": null,
   "id": "c89d91d6",
   "metadata": {},
   "outputs": [],
   "source": [
    "model = keras.Sequential(\n",
    "    [\n",
    "        layers.Dense(25, activation=\"tanh\", name=\"hidden-1\"),\n",
    "        layers.Dense(15, activation=\"tanh\", name=\"hidden-2\"),\n",
    "        layers.Dense(1, activation=\"softmax\", name=\"output-layer\"),\n",
    "    ]\n",
    ")\n",
    "\n",
    "model.compile(\n",
    "    optimizer=\"adam\",\n",
    "    loss=\"categorical_cross_entropy\",\n",
    "    metrics=[\"accuracy\"]\n",
    ")\n"
   ]
  }
 ],
 "metadata": {
  "kernelspec": {
   "display_name": "Python 3",
   "language": "python",
   "name": "python3"
  },
  "language_info": {
   "codemirror_mode": {
    "name": "ipython",
    "version": 3
   },
   "file_extension": ".py",
   "mimetype": "text/x-python",
   "name": "python",
   "nbconvert_exporter": "python",
   "pygments_lexer": "ipython3",
   "version": "3.13.3"
  }
 },
 "nbformat": 4,
 "nbformat_minor": 5
}
